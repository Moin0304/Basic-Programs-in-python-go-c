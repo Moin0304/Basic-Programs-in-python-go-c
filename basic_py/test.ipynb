{
 "cells": [
  {
   "cell_type": "code",
   "execution_count": 1,
   "metadata": {},
   "outputs": [
    {
     "name": "stdout",
     "output_type": "stream",
     "text": [
      "10\n"
     ]
    }
   ],
   "source": [
    "x=10\n",
    "print(x)"
   ]
  },
  {
   "cell_type": "code",
   "execution_count": 1,
   "metadata": {},
   "outputs": [
    {
     "name": "stdout",
     "output_type": "stream",
     "text": [
      "2 3 5 7 11 13 17 19 23 29 31 37 41 43 47 53 59 61 67 71 73 79 83 89 97 "
     ]
    }
   ],
   "source": [
    "a=1\n",
    "b=100\n",
    "for i in range(a,b+1):\n",
    "    if i>1:\n",
    "        for j in range(2,i):\n",
    "            if i%j==0:\n",
    "                break\n",
    "        else:\n",
    "            print(i,end=\" \")"
   ]
  },
  {
   "cell_type": "code",
   "execution_count": 2,
   "metadata": {},
   "outputs": [
    {
     "name": "stdout",
     "output_type": "stream",
     "text": [
      "[-1, 2, 3]\n"
     ]
    }
   ],
   "source": [
    "l=[2,3,4,-1,8,2]\n",
    "a=set(l)\n",
    "l1=[]\n",
    "for i in range(len(l)):\n",
    "    b=min(l)\n",
    "    l1.append(b)\n",
    "    l.remove(b)\n",
    "print(l1)\n"
   ]
  },
  {
   "cell_type": "code",
   "execution_count": 3,
   "metadata": {},
   "outputs": [
    {
     "name": "stdout",
     "output_type": "stream",
     "text": [
      "[-1, 2, 2, 3, 4, 8]\n"
     ]
    }
   ],
   "source": [
    "l=[2,3,4,-1,8,2]\n",
    "l1=[]\n",
    "for i in range(len(l)):\n",
    "    b=min(l)\n",
    "    l1.append(b)\n",
    "    l.remove(b)\n",
    "print(l1)\n"
   ]
  },
  {
   "cell_type": "code",
   "execution_count": 4,
   "metadata": {},
   "outputs": [
    {
     "name": "stdout",
     "output_type": "stream",
     "text": [
      "[-1, 2, 2, 3, 4, 8]\n"
     ]
    }
   ],
   "source": [
    "l=[2,3,4,-1,8,2]\n",
    "l1=[]\n",
    "for i in range(len(l)-1):\n",
    "    b=min(l)\n",
    "    l1.append(b)\n",
    "    l.remove(b)\n",
    "print(l1)\n"
   ]
  },
  {
   "cell_type": "code",
   "execution_count": 5,
   "metadata": {},
   "outputs": [
    {
     "name": "stdout",
     "output_type": "stream",
     "text": [
      "[-1, 2, 2, 3, 4]\n"
     ]
    }
   ],
   "source": [
    "l=[2,3,4,-1,8,2]\n",
    "l1=[]\n",
    "for i in range(len(l)):\n",
    "    b=min(l)\n",
    "    l1.append(b)\n",
    "    l.remove(b)\n",
    "print(l1)\n"
   ]
  },
  {
   "cell_type": "code",
   "execution_count": 6,
   "metadata": {},
   "outputs": [
    {
     "name": "stdout",
     "output_type": "stream",
     "text": [
      "[-1, 2, 2, 3, 4, 8]\n"
     ]
    }
   ],
   "source": [
    "l=[2,3,4,-1,8,2]*10\n",
    "l1=[]\n",
    "for i in range(len(l)):\n",
    "    b=min(l)\n",
    "    l1.append(b)\n",
    "    l.remove(b)\n",
    "print(l1)"
   ]
  },
  {
   "cell_type": "code",
   "execution_count": 7,
   "metadata": {},
   "outputs": [
    {
     "name": "stdout",
     "output_type": "stream",
     "text": [
      "[-1, -1, -1, -1, -1, -1, -1, -1, -1, -1, 2, 2, 2, 2, 2, 2, 2, 2, 2, 2, 2, 2, 2, 2, 2, 2, 2, 2, 2, 2, 3, 3, 3, 3, 3, 3, 3, 3, 3, 3, 4, 4, 4, 4, 4, 4, 4, 4, 4, 4, 8, 8, 8, 8, 8, 8, 8, 8, 8, 8]\n"
     ]
    }
   ],
   "source": [
    "l=[2,3,4,-1,8,2]*10\n",
    "l1=[]\n",
    "for i in range(len(l)):\n",
    "    b=min(l)\n",
    "    l1.append(b)\n",
    "    l.remove(b)\n",
    "print(l1)"
   ]
  },
  {
   "cell_type": "code",
   "execution_count": 8,
   "metadata": {},
   "outputs": [
    {
     "name": "stdout",
     "output_type": "stream",
     "text": [
      "[-3, -2, -1, 1, 2, 3]\n"
     ]
    }
   ],
   "source": [
    "l=[-1,-2,-3,1,2,3]\n",
    "l1=[]\n",
    "for i in range(len(l)):\n",
    "    b=min(l)\n",
    "    l1.append(b)\n",
    "    l.remove(b)\n",
    "print(l1)"
   ]
  },
  {
   "cell_type": "code",
   "execution_count": 1,
   "metadata": {},
   "outputs": [
    {
     "name": "stdout",
     "output_type": "stream",
     "text": [
      "[-3, -2, -1, 1, 2, 3, 3, 6, 7, 9]\n"
     ]
    }
   ],
   "source": [
    "l=[-1,-2,-3,1,2,3,3,6,7,9]*10000\n",
    "l1=[]\n",
    "for i in range(len(l)):\n",
    "    b=min(l)\n",
    "    l1.append(b)\n",
    "    l.remove(b)\n",
    "print(l1)"
   ]
  },
  {
   "cell_type": "code",
   "execution_count": 2,
   "metadata": {},
   "outputs": [
    {
     "ename": "KeyboardInterrupt",
     "evalue": "",
     "output_type": "error",
     "traceback": [
      "\u001b[1;31m---------------------------------------------------------------------------\u001b[0m",
      "\u001b[1;31mKeyboardInterrupt\u001b[0m                         Traceback (most recent call last)",
      "Cell \u001b[1;32mIn [2], line 5\u001b[0m\n\u001b[0;32m      3\u001b[0m \u001b[38;5;28;01mfor\u001b[39;00m i \u001b[38;5;129;01min\u001b[39;00m \u001b[38;5;28mrange\u001b[39m(\u001b[38;5;28mlen\u001b[39m(l)):\n\u001b[0;32m      4\u001b[0m     b\u001b[38;5;241m=\u001b[39m\u001b[38;5;28mmin\u001b[39m(l)\n\u001b[1;32m----> 5\u001b[0m     \u001b[43ml1\u001b[49m\u001b[38;5;241;43m.\u001b[39;49m\u001b[43mappend\u001b[49m\u001b[43m(\u001b[49m\u001b[43mb\u001b[49m\u001b[43m)\u001b[49m\n\u001b[0;32m      6\u001b[0m     l\u001b[38;5;241m.\u001b[39mremove(b)\n\u001b[0;32m      7\u001b[0m \u001b[38;5;28mprint\u001b[39m(l1)\n",
      "\u001b[1;31mKeyboardInterrupt\u001b[0m: "
     ]
    }
   ],
   "source": [
    "l=[-1,-2,-3,1,2,3,3,6,7,9]*10000\n",
    "l1=[]\n",
    "for i in range(len(l)):\n",
    "    b=min(l)\n",
    "    l1.append(b)\n",
    "    l.remove(b)\n",
    "print(l1)"
   ]
  },
  {
   "cell_type": "code",
   "execution_count": null,
   "metadata": {},
   "outputs": [],
   "source": []
  },
  {
   "cell_type": "code",
   "execution_count": null,
   "metadata": {},
   "outputs": [],
   "source": []
  }
 ],
 "metadata": {
  "kernelspec": {
   "display_name": "Python 3.10.7 64-bit",
   "language": "python",
   "name": "python3"
  },
  "language_info": {
   "codemirror_mode": {
    "name": "ipython",
    "version": 3
   },
   "file_extension": ".py",
   "mimetype": "text/x-python",
   "name": "python",
   "nbconvert_exporter": "python",
   "pygments_lexer": "ipython3",
   "version": "3.10.7"
  },
  "orig_nbformat": 4,
  "vscode": {
   "interpreter": {
    "hash": "26de051ba29f2982a8de78e945f0abaf191376122a1563185a90213a26c5da77"
   }
  }
 },
 "nbformat": 4,
 "nbformat_minor": 2
}
